{
 "cells": [
  {
   "cell_type": "markdown",
   "metadata": {},
   "source": [
    "# 第3部　記述統計\n",
    "\n",
    "## 3章　度数分布"
   ]
  },
  {
   "cell_type": "markdown",
   "metadata": {
    "collapsed": true
   },
   "source": [
    "### 実装：分析の準備"
   ]
  },
  {
   "cell_type": "code",
   "metadata": {
    "ExecuteTime": {
     "end_time": "2024-10-24T07:00:30.743353Z",
     "start_time": "2024-10-24T07:00:30.730073Z"
    }
   },
   "source": [
    "# 数値計算に使うライブラリ\n",
    "import numpy as np\n",
    "import pandas as pd"
   ],
   "outputs": [],
   "execution_count": 1
  },
  {
   "cell_type": "markdown",
   "metadata": {},
   "source": [
    "### 実装：度数分布"
   ]
  },
  {
   "cell_type": "code",
   "metadata": {
    "ExecuteTime": {
     "end_time": "2024-10-24T07:00:30.758308Z",
     "start_time": "2024-10-24T07:00:30.751217Z"
    }
   },
   "source": [
    "# 表示設定(書籍本文のレイアウトと合わせるためであり、必須ではありません)\n",
    "np.set_printoptions(linewidth=60)\n",
    "pd.set_option('display.width', 60)"
   ],
   "outputs": [],
   "execution_count": 2
  },
  {
   "cell_type": "markdown",
   "metadata": {},
   "source": [
    "#### カテゴリーデータの度数分布"
   ]
  },
  {
   "cell_type": "code",
   "metadata": {
    "ExecuteTime": {
     "end_time": "2024-10-24T07:00:31.247683Z",
     "start_time": "2024-10-24T07:00:31.220204Z"
    }
   },
   "source": [
    "# データの読み込み\n",
    "category_data = pd.read_csv('3-3-1-fish-species.csv')\n",
    "print(category_data)"
   ],
   "outputs": [
    {
     "name": "stdout",
     "output_type": "stream",
     "text": [
      "  species\n",
      "0       A\n",
      "1       A\n",
      "2       A\n",
      "3       B\n",
      "4       B\n",
      "5       B\n",
      "6       B\n",
      "7       B\n",
      "8       B\n",
      "9       B\n"
     ]
    }
   ],
   "execution_count": 3
  },
  {
   "cell_type": "code",
   "metadata": {
    "ExecuteTime": {
     "end_time": "2024-10-24T07:00:31.353452Z",
     "start_time": "2024-10-24T07:00:31.330286Z"
    }
   },
   "source": [
    "# カテゴリーデータの度数分布\n",
    "category_data.species.value_counts(sort=False)"
   ],
   "outputs": [
    {
     "data": {
      "text/plain": [
       "species\n",
       "A    3\n",
       "B    7\n",
       "Name: count, dtype: int64"
      ]
     },
     "execution_count": 4,
     "metadata": {},
     "output_type": "execute_result"
    }
   ],
   "execution_count": 4
  },
  {
   "cell_type": "markdown",
   "metadata": {},
   "source": [
    "#### 数量データの度数分布"
   ]
  },
  {
   "cell_type": "code",
   "metadata": {
    "ExecuteTime": {
     "end_time": "2024-10-24T07:00:31.429796Z",
     "start_time": "2024-10-24T07:00:31.408240Z"
    }
   },
   "source": [
    "# データの読み込み\n",
    "numeric_data = pd.read_csv('3-3-2-fish-length.csv')\n",
    "print(numeric_data)"
   ],
   "outputs": [
    {
     "name": "stdout",
     "output_type": "stream",
     "text": [
      "   length\n",
      "0    1.91\n",
      "1    1.21\n",
      "2    2.28\n",
      "3    1.01\n",
      "4    1.00\n",
      "5    4.50\n",
      "6    1.96\n",
      "7    0.72\n",
      "8    3.67\n",
      "9    2.55\n"
     ]
    }
   ],
   "execution_count": 5
  },
  {
   "cell_type": "code",
   "metadata": {
    "ExecuteTime": {
     "end_time": "2024-10-24T07:00:31.643005Z",
     "start_time": "2024-10-24T07:00:31.622013Z"
    }
   },
   "source": [
    "# 数量データの度数分布（うまくいかない例）\n",
    "numeric_data.length.value_counts()"
   ],
   "outputs": [
    {
     "data": {
      "text/plain": [
       "length\n",
       "1.91    1\n",
       "1.21    1\n",
       "2.28    1\n",
       "1.01    1\n",
       "1.00    1\n",
       "4.50    1\n",
       "1.96    1\n",
       "0.72    1\n",
       "3.67    1\n",
       "2.55    1\n",
       "Name: count, dtype: int64"
      ]
     },
     "execution_count": 6,
     "metadata": {},
     "output_type": "execute_result"
    }
   ],
   "execution_count": 6
  },
  {
   "cell_type": "code",
   "metadata": {
    "ExecuteTime": {
     "end_time": "2024-10-24T07:00:31.872458Z",
     "start_time": "2024-10-24T07:00:31.856864Z"
    }
   },
   "source": [
    "# 数量データの度数分布(3区分)\n",
    "numeric_data.length.value_counts(bins=3)"
   ],
   "outputs": [
    {
     "data": {
      "text/plain": [
       "(0.715, 1.98]    6\n",
       "(1.98, 3.24]     2\n",
       "(3.24, 4.5]      2\n",
       "Name: count, dtype: int64"
      ]
     },
     "execution_count": 7,
     "metadata": {},
     "output_type": "execute_result"
    }
   ],
   "execution_count": 7
  },
  {
   "cell_type": "code",
   "metadata": {
    "ExecuteTime": {
     "end_time": "2024-10-24T07:00:32.086452Z",
     "start_time": "2024-10-24T07:00:32.058553Z"
    }
   },
   "source": [
    "# 階級の上限と下限\n",
    "np.arange(0, 6, 1)"
   ],
   "outputs": [
    {
     "data": {
      "text/plain": [
       "array([0, 1, 2, 3, 4, 5])"
      ]
     },
     "execution_count": 8,
     "metadata": {},
     "output_type": "execute_result"
    }
   ],
   "execution_count": 8
  },
  {
   "cell_type": "code",
   "metadata": {
    "ExecuteTime": {
     "end_time": "2024-10-24T07:00:32.682300Z",
     "start_time": "2024-10-24T07:00:32.656416Z"
    }
   },
   "source": [
    "# 数量データの度数分布(階級の上限と下限を指定)\n",
    "freq = numeric_data.length.value_counts(\n",
    "    bins=np.arange(0, 6, 1), sort=False)\n",
    "freq"
   ],
   "outputs": [
    {
     "data": {
      "text/plain": [
       "(-0.001, 1.0]    2\n",
       "(1.0, 2.0]       4\n",
       "(2.0, 3.0]       2\n",
       "(3.0, 4.0]       1\n",
       "(4.0, 5.0]       1\n",
       "Name: count, dtype: int64"
      ]
     },
     "execution_count": 9,
     "metadata": {},
     "output_type": "execute_result"
    }
   ],
   "execution_count": 9
  },
  {
   "cell_type": "markdown",
   "metadata": {},
   "source": [
    "#### numpyの関数を使う"
   ]
  },
  {
   "cell_type": "code",
   "metadata": {
    "ExecuteTime": {
     "end_time": "2024-10-24T07:00:33.259898Z",
     "start_time": "2024-10-24T07:00:33.240954Z"
    }
   },
   "source": [
    "# 数量データの度数分布(3区分)\n",
    "np.histogram(numeric_data.length, bins=3)"
   ],
   "outputs": [
    {
     "data": {
      "text/plain": [
       "(array([6, 2, 2], dtype=int64), array([0.72, 1.98, 3.24, 4.5 ]))"
      ]
     },
     "execution_count": 10,
     "metadata": {},
     "output_type": "execute_result"
    }
   ],
   "execution_count": 10
  },
  {
   "cell_type": "code",
   "metadata": {
    "ExecuteTime": {
     "end_time": "2024-10-24T07:00:33.701873Z",
     "start_time": "2024-10-24T07:00:33.680374Z"
    }
   },
   "source": [
    "# 参考：度数だけを取得した結果(書籍には載っていないコードです)\n",
    "np.histogram(numeric_data.length, bins=3)[0]"
   ],
   "outputs": [
    {
     "data": {
      "text/plain": [
       "array([6, 2, 2], dtype=int64)"
      ]
     },
     "execution_count": 11,
     "metadata": {},
     "output_type": "execute_result"
    }
   ],
   "execution_count": 11
  },
  {
   "cell_type": "code",
   "metadata": {
    "ExecuteTime": {
     "end_time": "2024-10-24T07:00:33.973243Z",
     "start_time": "2024-10-24T07:00:33.959012Z"
    }
   },
   "source": [
    "# 数量データの度数分布(階級の上限と下限を指定)\n",
    "# 下限を含み、上限を含まないので注意\n",
    "np.histogram(numeric_data.length, bins=np.arange(0, 6, 1))"
   ],
   "outputs": [
    {
     "data": {
      "text/plain": [
       "(array([1, 5, 2, 1, 1], dtype=int64), array([0, 1, 2, 3, 4, 5]))"
      ]
     },
     "execution_count": 12,
     "metadata": {},
     "output_type": "execute_result"
    }
   ],
   "execution_count": 12
  },
  {
   "cell_type": "markdown",
   "metadata": {},
   "source": [
    "### 実装：相対度数分布・累積度数分布"
   ]
  },
  {
   "cell_type": "markdown",
   "metadata": {},
   "source": [
    "#### 相対度数分布"
   ]
  },
  {
   "cell_type": "code",
   "metadata": {
    "ExecuteTime": {
     "end_time": "2024-10-24T07:00:34.369853Z",
     "start_time": "2024-10-24T07:00:34.353803Z"
    }
   },
   "source": [
    "# 相対度数分布\n",
    "rel_freq = freq / sum(freq)\n",
    "rel_freq"
   ],
   "outputs": [
    {
     "data": {
      "text/plain": [
       "(-0.001, 1.0]    0.2\n",
       "(1.0, 2.0]       0.4\n",
       "(2.0, 3.0]       0.2\n",
       "(3.0, 4.0]       0.1\n",
       "(4.0, 5.0]       0.1\n",
       "Name: count, dtype: float64"
      ]
     },
     "execution_count": 13,
     "metadata": {},
     "output_type": "execute_result"
    }
   ],
   "execution_count": 13
  },
  {
   "cell_type": "code",
   "metadata": {
    "ExecuteTime": {
     "end_time": "2024-10-24T07:00:34.539123Z",
     "start_time": "2024-10-24T07:00:34.511919Z"
    }
   },
   "source": [
    "# value_counts関数の設定を変える\n",
    "numeric_data.length.value_counts(bins=np.arange(0, 6, 1), \n",
    "                                 sort=False,\n",
    "                                 normalize=True)"
   ],
   "outputs": [
    {
     "data": {
      "text/plain": [
       "(-0.001, 1.0]    0.2\n",
       "(1.0, 2.0]       0.4\n",
       "(2.0, 3.0]       0.2\n",
       "(3.0, 4.0]       0.1\n",
       "(4.0, 5.0]       0.1\n",
       "Name: proportion, dtype: float64"
      ]
     },
     "execution_count": 14,
     "metadata": {},
     "output_type": "execute_result"
    }
   ],
   "execution_count": 14
  },
  {
   "cell_type": "code",
   "metadata": {
    "ExecuteTime": {
     "end_time": "2024-10-24T07:00:35.058018Z",
     "start_time": "2024-10-24T07:00:35.035826Z"
    }
   },
   "source": [
    "# np.hinstogram関数の設定を変える\n",
    "np.histogram(numeric_data.length, bins=np.arange(0, 6, 1),\n",
    "             density=True)"
   ],
   "outputs": [
    {
     "data": {
      "text/plain": [
       "(array([0.1, 0.5, 0.2, 0.1, 0.1]), array([0, 1, 2, 3, 4, 5]))"
      ]
     },
     "execution_count": 15,
     "metadata": {},
     "output_type": "execute_result"
    }
   ],
   "execution_count": 15
  },
  {
   "cell_type": "markdown",
   "metadata": {},
   "source": [
    "#### 累積度数分布"
   ]
  },
  {
   "cell_type": "code",
   "metadata": {
    "ExecuteTime": {
     "end_time": "2024-10-24T07:00:35.211134Z",
     "start_time": "2024-10-24T07:00:35.198624Z"
    }
   },
   "source": [
    "# 累積度数分布\n",
    "freq.cumsum()"
   ],
   "outputs": [
    {
     "data": {
      "text/plain": [
       "(-0.001, 1.0]     2\n",
       "(1.0, 2.0]        6\n",
       "(2.0, 3.0]        8\n",
       "(3.0, 4.0]        9\n",
       "(4.0, 5.0]       10\n",
       "Name: count, dtype: int64"
      ]
     },
     "execution_count": 16,
     "metadata": {},
     "output_type": "execute_result"
    }
   ],
   "execution_count": 16
  },
  {
   "cell_type": "code",
   "metadata": {
    "ExecuteTime": {
     "end_time": "2024-10-24T07:00:35.576906Z",
     "start_time": "2024-10-24T07:00:35.560640Z"
    }
   },
   "source": [
    "freq_np = np.histogram(numeric_data.length, \n",
    "                       bins=np.arange(0, 6, 1))[0]\n",
    "np.cumsum(freq_np)"
   ],
   "outputs": [
    {
     "data": {
      "text/plain": [
       "array([ 1,  6,  8,  9, 10], dtype=int64)"
      ]
     },
     "execution_count": 17,
     "metadata": {},
     "output_type": "execute_result"
    }
   ],
   "execution_count": 17
  },
  {
   "cell_type": "code",
   "metadata": {
    "ExecuteTime": {
     "end_time": "2024-10-24T07:00:35.775009Z",
     "start_time": "2024-10-24T07:00:35.747391Z"
    }
   },
   "source": [
    "# 累積相対度数分布\n",
    "rel_freq.cumsum()"
   ],
   "outputs": [
    {
     "data": {
      "text/plain": [
       "(-0.001, 1.0]    0.2\n",
       "(1.0, 2.0]       0.6\n",
       "(2.0, 3.0]       0.8\n",
       "(3.0, 4.0]       0.9\n",
       "(4.0, 5.0]       1.0\n",
       "Name: count, dtype: float64"
      ]
     },
     "execution_count": 18,
     "metadata": {},
     "output_type": "execute_result"
    }
   ],
   "execution_count": 18
  },
  {
   "cell_type": "markdown",
   "metadata": {},
   "source": [
    "### グラフ描画とmatplotlib・seaborn"
   ]
  },
  {
   "cell_type": "code",
   "metadata": {
    "ExecuteTime": {
     "end_time": "2024-10-24T07:00:36.157679Z",
     "start_time": "2024-10-24T07:00:36.136115Z"
    }
   },
   "source": [
    "# グラフを描画するライブラリ\n",
    "from matplotlib import pyplot as plt\n",
    "import seaborn as sns\n",
    "sns.set()"
   ],
   "outputs": [],
   "execution_count": 19
  },
  {
   "cell_type": "code",
   "metadata": {
    "ExecuteTime": {
     "end_time": "2024-10-24T07:00:36.340225Z",
     "start_time": "2024-10-24T07:00:36.328750Z"
    }
   },
   "source": [
    "# 表示設定(書籍本文のレイアウトと合わせるためであり、必須ではありません)\n",
    "from matplotlib.pylab import rcParams\n",
    "rcParams['figure.figsize'] = 8, 4"
   ],
   "outputs": [],
   "execution_count": 20
  },
  {
   "cell_type": "markdown",
   "metadata": {},
   "source": [
    "### 実装：ヒストグラム"
   ]
  },
  {
   "cell_type": "markdown",
   "metadata": {},
   "source": [
    "#### matplotlibを使う方法(参考)"
   ]
  },
  {
   "cell_type": "code",
   "metadata": {
    "ExecuteTime": {
     "end_time": "2024-10-24T07:00:37.254085Z",
     "start_time": "2024-10-24T07:00:36.770429Z"
    }
   },
   "source": [
    "# 参考：matplotlibを使ったヒストグラム(書籍には載っていないコードです)\n",
    "hist = plt.hist(x='length', data=numeric_data, \n",
    "                bins=np.arange(0, 6, 1), color='gray')"
   ],
   "outputs": [
    {
     "data": {
      "text/plain": [
       "<Figure size 432x288 with 1 Axes>"
      ],
      "image/png": "[encoded data removed]"
     },
     "metadata": {
      "needs_background": "light"
     },
     "output_type": "display_data"
    }
   ],
   "execution_count": 21
  },
  {
   "cell_type": "markdown",
   "metadata": {},
   "source": [
    "#### seabornを使う方法"
   ]
  },
  {
   "cell_type": "code",
   "metadata": {
    "ExecuteTime": {
     "end_time": "2024-10-24T07:00:37.925429Z",
     "start_time": "2024-10-24T07:00:37.482177Z"
    }
   },
   "source": [
    "sns.histplot(x='length', data=numeric_data, color='gray',\n",
    "             bins=np.arange(0, 6, 1))"
   ],
   "outputs": [
    {
     "name": "stderr",
     "output_type": "stream",
     "text": [
      "C:\\Users\\kakim\\scoop\\apps\\python\\current\\lib\\site-packages\\seaborn\\_oldcore.py:1119: FutureWarning: use_inf_as_na option is deprecated and will be removed in a future version. Convert inf values to NaN before operating instead.\n",
      "  with pd.option_context('mode.use_inf_as_na', True):\n"
     ]
    },
    {
     "data": {
      "text/plain": [
       "<Axes: xlabel='length', ylabel='Count'>"
      ]
     },
     "execution_count": 22,
     "metadata": {},
     "output_type": "execute_result"
    },
    {
     "data": {
      "text/plain": [
       "<Figure size 432x288 with 1 Axes>"
      ],
      "image/png": "[encoded data removed]"
     },
     "metadata": {
      "needs_background": "light"
     },
     "output_type": "display_data"
    }
   ],
   "execution_count": 22
  },
  {
   "cell_type": "code",
   "metadata": {
    "ExecuteTime": {
     "end_time": "2024-10-24T07:00:38.411973Z",
     "start_time": "2024-10-24T07:00:37.963740Z"
    }
   },
   "source": [
    "# 柱の面積を相対度数にする\n",
    "sns.histplot(x='length', data=numeric_data, color='gray',\n",
    "             bins=np.arange(0, 6, 1), stat='density')"
   ],
   "outputs": [
    {
     "name": "stderr",
     "output_type": "stream",
     "text": [
      "C:\\Users\\kakim\\scoop\\apps\\python\\current\\lib\\site-packages\\seaborn\\_oldcore.py:1119: FutureWarning: use_inf_as_na option is deprecated and will be removed in a future version. Convert inf values to NaN before operating instead.\n",
      "  with pd.option_context('mode.use_inf_as_na', True):\n"
     ]
    },
    {
     "data": {
      "text/plain": [
       "<Axes: xlabel='length', ylabel='Density'>"
      ]
     },
     "execution_count": 23,
     "metadata": {},
     "output_type": "execute_result"
    },
    {
     "data": {
      "text/plain": [
       "<Figure size 432x288 with 1 Axes>"
      ],
      "image/png": "[encoded data removed]"
     },
     "metadata": {
      "needs_background": "light"
     },
     "output_type": "display_data"
    }
   ],
   "execution_count": 23
  },
  {
   "cell_type": "markdown",
   "metadata": {},
   "source": [
    "### 実装：階級の幅が異なるヒストグラム"
   ]
  },
  {
   "cell_type": "code",
   "metadata": {
    "ExecuteTime": {
     "end_time": "2024-10-24T07:00:38.471943Z",
     "start_time": "2024-10-24T07:00:38.446203Z"
    }
   },
   "source": [
    "# np.hinstogram関数の設定を変える\n",
    "np.histogram(numeric_data.length, bins=np.array([0, 1, 2, 5]),\n",
    "             density=True)"
   ],
   "outputs": [
    {
     "data": {
      "text/plain": [
       "(array([0.1       , 0.5       , 0.13333333]), array([0, 1, 2, 5]))"
      ]
     },
     "execution_count": 24,
     "metadata": {},
     "output_type": "execute_result"
    }
   ],
   "execution_count": 24
  },
  {
   "cell_type": "code",
   "metadata": {
    "ExecuteTime": {
     "end_time": "2024-10-24T07:00:39.004971Z",
     "start_time": "2024-10-24T07:00:38.521892Z"
    }
   },
   "source": [
    "# 階級の幅を変える\n",
    "sns.histplot(x='length', data=numeric_data, color='gray',\n",
    "             bins=np.array([0, 1, 2, 5]), stat='density')"
   ],
   "outputs": [
    {
     "name": "stderr",
     "output_type": "stream",
     "text": [
      "C:\\Users\\kakim\\scoop\\apps\\python\\current\\lib\\site-packages\\seaborn\\_oldcore.py:1119: FutureWarning: use_inf_as_na option is deprecated and will be removed in a future version. Convert inf values to NaN before operating instead.\n",
      "  with pd.option_context('mode.use_inf_as_na', True):\n"
     ]
    },
    {
     "data": {
      "text/plain": [
       "<Axes: xlabel='length', ylabel='Density'>"
      ]
     },
     "execution_count": 25,
     "metadata": {},
     "output_type": "execute_result"
    },
    {
     "data": {
      "text/plain": [
       "<Figure size 432x288 with 1 Axes>"
      ],
      "image/png": "[encoded data removed]"
     },
     "metadata": {
      "needs_background": "light"
     },
     "output_type": "display_data"
    }
   ],
   "execution_count": 25
  },
  {
   "cell_type": "markdown",
   "metadata": {},
   "source": [
    "### 実装：カーネル密度推定によるヒストグラム平滑化"
   ]
  },
  {
   "cell_type": "code",
   "metadata": {
    "ExecuteTime": {
     "end_time": "2024-10-24T07:00:39.492445Z",
     "start_time": "2024-10-24T07:00:39.044018Z"
    }
   },
   "source": [
    "sns.kdeplot(numeric_data.length, fill=True, color='gray')"
   ],
   "outputs": [
    {
     "name": "stderr",
     "output_type": "stream",
     "text": [
      "C:\\Users\\kakim\\scoop\\apps\\python\\current\\lib\\site-packages\\seaborn\\_oldcore.py:1119: FutureWarning: use_inf_as_na option is deprecated and will be removed in a future version. Convert inf values to NaN before operating instead.\n",
      "  with pd.option_context('mode.use_inf_as_na', True):\n"
     ]
    },
    {
     "data": {
      "text/plain": [
       "<Axes: xlabel='length', ylabel='Density'>"
      ]
     },
     "execution_count": 26,
     "metadata": {},
     "output_type": "execute_result"
    },
    {
     "data": {
      "text/plain": [
       "<Figure size 432x288 with 1 Axes>"
      ],
      "image/png": "[encoded data removed]"
     },
     "metadata": {
      "needs_background": "light"
     },
     "output_type": "display_data"
    }
   ],
   "execution_count": 26
  },
  {
   "cell_type": "code",
   "metadata": {
    "ExecuteTime": {
     "end_time": "2024-10-24T07:00:40.238761Z",
     "start_time": "2024-10-24T07:00:39.525126Z"
    }
   },
   "source": [
    "# バンド幅を変えた3種類のカーネル密度推定の結果\n",
    "sns.kdeplot(numeric_data.length, \n",
    "            color='black', label='default')\n",
    "sns.kdeplot(numeric_data.length, \n",
    "            color='black', bw_adjust=0.4, \n",
    "            linestyle='dashed', label='bw_adjust=0.4')\n",
    "sns.kdeplot(numeric_data.length, \n",
    "            color='black', bw_adjust=2, \n",
    "            linestyle='dotted', label='bw_adjust=2')\n",
    "\n",
    "plt.legend() # 凡例"
   ],
   "outputs": [
    {
     "name": "stderr",
     "output_type": "stream",
     "text": [
      "C:\\Users\\kakim\\scoop\\apps\\python\\current\\lib\\site-packages\\seaborn\\_oldcore.py:1119: FutureWarning: use_inf_as_na option is deprecated and will be removed in a future version. Convert inf values to NaN before operating instead.\n",
      "  with pd.option_context('mode.use_inf_as_na', True):\n",
      "C:\\Users\\kakim\\scoop\\apps\\python\\current\\lib\\site-packages\\seaborn\\_oldcore.py:1119: FutureWarning: use_inf_as_na option is deprecated and will be removed in a future version. Convert inf values to NaN before operating instead.\n",
      "  with pd.option_context('mode.use_inf_as_na', True):\n",
      "C:\\Users\\kakim\\scoop\\apps\\python\\current\\lib\\site-packages\\seaborn\\_oldcore.py:1119: FutureWarning: use_inf_as_na option is deprecated and will be removed in a future version. Convert inf values to NaN before operating instead.\n",
      "  with pd.option_context('mode.use_inf_as_na', True):\n"
     ]
    },
    {
     "data": {
      "text/plain": [
       "<matplotlib.legend.Legend at 0x20b9e51b7c0>"
      ]
     },
     "execution_count": 27,
     "metadata": {},
     "output_type": "execute_result"
    },
    {
     "data": {
      "text/plain": [
       "<Figure size 432x288 with 1 Axes>"
      ],
      "image/png": "[encoded data removed]"
     },
     "metadata": {
      "needs_background": "light"
     },
     "output_type": "display_data"
    }
   ],
   "execution_count": 27
  }
 ],
 "metadata": {
  "kernelspec": {
   "display_name": "Python 3 (ipykernel)",
   "language": "python",
   "name": "python3"
  },
  "language_info": {
   "codemirror_mode": {
    "name": "ipython",
    "version": 3
   },
   "file_extension": ".py",
   "mimetype": "text/x-python",
   "name": "python",
   "nbconvert_exporter": "python",
   "pygments_lexer": "ipython3",
   "version": "3.9.7"
  }
 },
 "nbformat": 4,
 "nbformat_minor": 2
}
