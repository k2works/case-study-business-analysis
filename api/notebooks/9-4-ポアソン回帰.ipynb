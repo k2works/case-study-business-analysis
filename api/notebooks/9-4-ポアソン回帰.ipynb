{
 "cells": [
  {
   "cell_type": "markdown",
   "metadata": {},
   "source": [
    "# 第9部　一般化線形モデル\n",
    "\n",
    "## 4章　ポアソン回帰"
   ]
  },
  {
   "cell_type": "markdown",
   "metadata": {},
   "source": [
    "### 実装：分析の準備"
   ]
  },
  {
   "cell_type": "code",
   "metadata": {
    "scrolled": true,
    "ExecuteTime": {
     "end_time": "2024-10-24T07:07:39.194288Z",
     "start_time": "2024-10-24T07:07:38.601029Z"
    }
   },
   "source": [
    "# 数値計算に使うライブラリ\n",
    "import numpy as np\n",
    "import pandas as pd\n",
    "from scipy import stats\n",
    "# 表示桁数の設定\n",
    "pd.set_option('display.precision', 3)\n",
    "np.set_printoptions(precision=3)\n",
    "\n",
    "# グラフを描画するライブラリ\n",
    "from matplotlib import pyplot as plt\n",
    "import seaborn as sns\n",
    "sns.set()\n",
    "# グラフの日本語表記\n",
    "from matplotlib import rcParams\n",
    "rcParams['font.family'] = 'sans-serif'\n",
    "rcParams['font.sans-serif'] = 'Meiryo'\n",
    "\n",
    "# 統計モデルを推定するライブラリ\n",
    "import statsmodels.formula.api as smf\n",
    "import statsmodels.api as sm"
   ],
   "outputs": [],
   "execution_count": 1
  },
  {
   "cell_type": "code",
   "metadata": {
    "ExecuteTime": {
     "end_time": "2024-10-24T07:07:39.225080Z",
     "start_time": "2024-10-24T07:07:39.203256Z"
    }
   },
   "source": [
    "# 表示設定(書籍本文のレイアウトと合わせるためであり、必須ではありません)\n",
    "np.set_printoptions(linewidth=60)\n",
    "pd.set_option('display.width', 60)\n",
    "\n",
    "from matplotlib.pylab import rcParams\n",
    "rcParams['figure.figsize'] = 8, 4"
   ],
   "outputs": [],
   "execution_count": 2
  },
  {
   "cell_type": "markdown",
   "metadata": {},
   "source": [
    "### 実装：ポアソン分布"
   ]
  },
  {
   "cell_type": "markdown",
   "metadata": {},
   "source": [
    "#### ポアソン分布の確率質量関数"
   ]
  },
  {
   "cell_type": "code",
   "metadata": {
    "ExecuteTime": {
     "end_time": "2024-10-24T07:07:39.605442Z",
     "start_time": "2024-10-24T07:07:39.592510Z"
    }
   },
   "source": [
    "# ポアソン分布の確率質量関数\n",
    "round(stats.poisson.pmf(k=1, mu=2), 3)"
   ],
   "outputs": [
    {
     "data": {
      "text/plain": [
       "0.271"
      ]
     },
     "execution_count": 3,
     "metadata": {},
     "output_type": "execute_result"
    }
   ],
   "execution_count": 3
  },
  {
   "cell_type": "code",
   "metadata": {
    "ExecuteTime": {
     "end_time": "2024-10-24T07:07:39.635630Z",
     "start_time": "2024-10-24T07:07:39.623981Z"
    }
   },
   "source": [
    "# λ=2のポアソン分布に従う乱数\n",
    "np.random.seed(1)\n",
    "stats.poisson.rvs(mu=2, size=5)"
   ],
   "outputs": [
    {
     "data": {
      "text/plain": [
       "array([2, 1, 0, 1, 2], dtype=int64)"
      ]
     },
     "execution_count": 4,
     "metadata": {},
     "output_type": "execute_result"
    }
   ],
   "execution_count": 4
  },
  {
   "cell_type": "code",
   "metadata": {
    "ExecuteTime": {
     "end_time": "2024-10-24T07:07:40.230253Z",
     "start_time": "2024-10-24T07:07:39.659279Z"
    }
   },
   "source": [
    "#  λを変化させたポアソン分布の確率質量関数\n",
    "x = np.arange(0,15,1)\n",
    "poisson_lambda1 = stats.poisson.pmf(mu=1, k=x)\n",
    "poisson_lambda2 = stats.poisson.pmf(mu=2, k=x)\n",
    "poisson_lambda5 = stats.poisson.pmf(mu=5, k=x)\n",
    "\n",
    "# ポアソン分布の確率質量関数の折れ線グラフ\n",
    "sns.lineplot(x=x, y=poisson_lambda1, color='black', \n",
    "             linestyle='dashed', label='$\\lambda=1$')\n",
    "sns.lineplot(x=x, y=poisson_lambda2, color='black', \n",
    "             linestyle='dotted', label='$\\lambda=2$')\n",
    "sns.lineplot(x=x, y=poisson_lambda5, color='black', \n",
    "             linestyle='solid', label='$\\lambda=5$')"
   ],
   "outputs": [
    {
     "name": "stderr",
     "output_type": "stream",
     "text": [
      "C:\\Users\\kakim\\scoop\\apps\\python\\current\\lib\\site-packages\\seaborn\\_oldcore.py:1119: FutureWarning: use_inf_as_na option is deprecated and will be removed in a future version. Convert inf values to NaN before operating instead.\n",
      "  with pd.option_context('mode.use_inf_as_na', True):\n",
      "C:\\Users\\kakim\\scoop\\apps\\python\\current\\lib\\site-packages\\seaborn\\_oldcore.py:1119: FutureWarning: use_inf_as_na option is deprecated and will be removed in a future version. Convert inf values to NaN before operating instead.\n",
      "  with pd.option_context('mode.use_inf_as_na', True):\n",
      "C:\\Users\\kakim\\scoop\\apps\\python\\current\\lib\\site-packages\\seaborn\\_oldcore.py:1119: FutureWarning: use_inf_as_na option is deprecated and will be removed in a future version. Convert inf values to NaN before operating instead.\n",
      "  with pd.option_context('mode.use_inf_as_na', True):\n",
      "C:\\Users\\kakim\\scoop\\apps\\python\\current\\lib\\site-packages\\seaborn\\_oldcore.py:1119: FutureWarning: use_inf_as_na option is deprecated and will be removed in a future version. Convert inf values to NaN before operating instead.\n",
      "  with pd.option_context('mode.use_inf_as_na', True):\n",
      "C:\\Users\\kakim\\scoop\\apps\\python\\current\\lib\\site-packages\\seaborn\\_oldcore.py:1119: FutureWarning: use_inf_as_na option is deprecated and will be removed in a future version. Convert inf values to NaN before operating instead.\n",
      "  with pd.option_context('mode.use_inf_as_na', True):\n",
      "C:\\Users\\kakim\\scoop\\apps\\python\\current\\lib\\site-packages\\seaborn\\_oldcore.py:1119: FutureWarning: use_inf_as_na option is deprecated and will be removed in a future version. Convert inf values to NaN before operating instead.\n",
      "  with pd.option_context('mode.use_inf_as_na', True):\n"
     ]
    },
    {
     "data": {
      "text/plain": [
       "<Axes: >"
      ]
     },
     "execution_count": 5,
     "metadata": {},
     "output_type": "execute_result"
    },
    {
     "data": {
      "text/plain": [
       "<Figure size 432x288 with 1 Axes>"
      ],
      "image/png": "[encoded data removed]"
     },
     "metadata": {
      "needs_background": "light"
     },
     "output_type": "display_data"
    }
   ],
   "execution_count": 5
  },
  {
   "cell_type": "markdown",
   "metadata": {},
   "source": [
    "#### ポアソン分布と二項分布の関係"
   ]
  },
  {
   "cell_type": "code",
   "metadata": {
    "ExecuteTime": {
     "end_time": "2024-10-24T07:07:40.687980Z",
     "start_time": "2024-10-24T07:07:40.265108Z"
    }
   },
   "source": [
    "# pが小さくnが大きい二項分布\n",
    "p = 0.00000002\n",
    "n = 100000000\n",
    "binomial = stats.binom.pmf(n=n, p=p, k=x)\n",
    "\n",
    "# 二項分布とポアソン分布の比較\n",
    "sns.lineplot(x=x, y=binomial, color='black', \n",
    "             linestyle = 'dotted', \n",
    "             label='$np=2$の二項分布')\n",
    "sns.lineplot(x=x, y=poisson_lambda2, color='gray',\n",
    "             linestyle='solid', \n",
    "             label='$\\lambda=2$のポアソン分布')"
   ],
   "outputs": [
    {
     "name": "stderr",
     "output_type": "stream",
     "text": [
      "C:\\Users\\kakim\\scoop\\apps\\python\\current\\lib\\site-packages\\seaborn\\_oldcore.py:1119: FutureWarning: use_inf_as_na option is deprecated and will be removed in a future version. Convert inf values to NaN before operating instead.\n",
      "  with pd.option_context('mode.use_inf_as_na', True):\n",
      "C:\\Users\\kakim\\scoop\\apps\\python\\current\\lib\\site-packages\\seaborn\\_oldcore.py:1119: FutureWarning: use_inf_as_na option is deprecated and will be removed in a future version. Convert inf values to NaN before operating instead.\n",
      "  with pd.option_context('mode.use_inf_as_na', True):\n",
      "C:\\Users\\kakim\\scoop\\apps\\python\\current\\lib\\site-packages\\seaborn\\_oldcore.py:1119: FutureWarning: use_inf_as_na option is deprecated and will be removed in a future version. Convert inf values to NaN before operating instead.\n",
      "  with pd.option_context('mode.use_inf_as_na', True):\n",
      "C:\\Users\\kakim\\scoop\\apps\\python\\current\\lib\\site-packages\\seaborn\\_oldcore.py:1119: FutureWarning: use_inf_as_na option is deprecated and will be removed in a future version. Convert inf values to NaN before operating instead.\n",
      "  with pd.option_context('mode.use_inf_as_na', True):\n"
     ]
    },
    {
     "data": {
      "text/plain": [
       "<Axes: >"
      ]
     },
     "execution_count": 6,
     "metadata": {},
     "output_type": "execute_result"
    },
    {
     "data": {
      "text/plain": [
       "<Figure size 432x288 with 1 Axes>"
      ],
      "image/png": "[encoded data removed]"
     },
     "metadata": {
      "needs_background": "light"
     },
     "output_type": "display_data"
    }
   ],
   "execution_count": 6
  },
  {
   "cell_type": "markdown",
   "metadata": {},
   "source": [
    "### 実装：データの読み込み"
   ]
  },
  {
   "cell_type": "code",
   "metadata": {
    "ExecuteTime": {
     "end_time": "2024-10-24T07:07:40.748946Z",
     "start_time": "2024-10-24T07:07:40.733154Z"
    }
   },
   "source": [
    "# データの読み込み\n",
    "beer = pd.read_csv('9-4-1-poisson-regression.csv')\n",
    "print(beer.head(3))"
   ],
   "outputs": [
    {
     "name": "stdout",
     "output_type": "stream",
     "text": [
      "   beer_number  temperature\n",
      "0            6         17.5\n",
      "1           11         26.6\n",
      "2            2          5.0\n"
     ]
    }
   ],
   "execution_count": 7
  },
  {
   "cell_type": "markdown",
   "metadata": {},
   "source": [
    "### 実装：ポアソン回帰"
   ]
  },
  {
   "cell_type": "code",
   "metadata": {
    "ExecuteTime": {
     "end_time": "2024-10-24T07:07:40.824677Z",
     "start_time": "2024-10-24T07:07:40.790664Z"
    }
   },
   "source": [
    "# モデル化\n",
    "mod_pois = smf.glm('beer_number ~ temperature', beer, \n",
    "                   family=sm.families.Poisson()).fit()\n",
    "mod_pois.summary()"
   ],
   "outputs": [
    {
     "data": {
      "text/plain": [
       "<class 'statsmodels.iolib.summary.Summary'>\n",
       "\"\"\"\n",
       "                 Generalized Linear Model Regression Results                  \n",
       "==============================================================================\n",
       "Dep. Variable:            beer_number   No. Observations:                   30\n",
       "Model:                            GLM   Df Residuals:                       28\n",
       "Model Family:                 Poisson   Df Model:                            1\n",
       "Link Function:                    Log   Scale:                          1.0000\n",
       "Method:                          IRLS   Log-Likelihood:                -57.672\n",
       "Date:                Thu, 24 Oct 2024   Deviance:                       5.1373\n",
       "Time:                        16:07:40   Pearson chi2:                     5.40\n",
       "No. Iterations:                     4   Pseudo R-squ. (CS):             0.9708\n",
       "Covariance Type:            nonrobust                                         \n",
       "===============================================================================\n",
       "                  coef    std err          z      P>|z|      [0.025      0.975]\n",
       "-------------------------------------------------------------------------------\n",
       "Intercept       0.4476      0.199      2.253      0.024       0.058       0.837\n",
       "temperature     0.0761      0.008      9.784      0.000       0.061       0.091\n",
       "===============================================================================\n",
       "\"\"\""
      ],
      "text/html": [
       "<table class=\"simpletable\">\n",
       "<caption>Generalized Linear Model Regression Results</caption>\n",
       "<tr>\n",
       "  <th>Dep. Variable:</th>      <td>beer_number</td>   <th>  No. Observations:  </th>  <td>    30</td> \n",
       "</tr>\n",
       "<tr>\n",
       "  <th>Model:</th>                  <td>GLM</td>       <th>  Df Residuals:      </th>  <td>    28</td> \n",
       "</tr>\n",
       "<tr>\n",
       "  <th>Model Family:</th>         <td>Poisson</td>     <th>  Df Model:          </th>  <td>     1</td> \n",
       "</tr>\n",
       "<tr>\n",
       "  <th>Link Function:</th>          <td>Log</td>       <th>  Scale:             </th> <td>  1.0000</td>\n",
       "</tr>\n",
       "<tr>\n",
       "  <th>Method:</th>                <td>IRLS</td>       <th>  Log-Likelihood:    </th> <td> -57.672</td>\n",
       "</tr>\n",
       "<tr>\n",
       "  <th>Date:</th>            <td>Thu, 24 Oct 2024</td> <th>  Deviance:          </th> <td>  5.1373</td>\n",
       "</tr>\n",
       "<tr>\n",
       "  <th>Time:</th>                <td>16:07:40</td>     <th>  Pearson chi2:      </th>  <td>  5.40</td> \n",
       "</tr>\n",
       "<tr>\n",
       "  <th>No. Iterations:</th>          <td>4</td>        <th>  Pseudo R-squ. (CS):</th>  <td>0.9708</td> \n",
       "</tr>\n",
       "<tr>\n",
       "  <th>Covariance Type:</th>     <td>nonrobust</td>    <th>                     </th>     <td> </td>   \n",
       "</tr>\n",
       "</table>\n",
       "<table class=\"simpletable\">\n",
       "<tr>\n",
       "       <td></td>          <th>coef</th>     <th>std err</th>      <th>z</th>      <th>P>|z|</th>  <th>[0.025</th>    <th>0.975]</th>  \n",
       "</tr>\n",
       "<tr>\n",
       "  <th>Intercept</th>   <td>    0.4476</td> <td>    0.199</td> <td>    2.253</td> <td> 0.024</td> <td>    0.058</td> <td>    0.837</td>\n",
       "</tr>\n",
       "<tr>\n",
       "  <th>temperature</th> <td>    0.0761</td> <td>    0.008</td> <td>    9.784</td> <td> 0.000</td> <td>    0.061</td> <td>    0.091</td>\n",
       "</tr>\n",
       "</table>"
      ],
      "text/latex": "\\begin{center}\n\\begin{tabular}{lclc}\n\\toprule\n\\textbf{Dep. Variable:}   &   beer\\_number   & \\textbf{  No. Observations:  } &       30    \\\\\n\\textbf{Model:}           &       GLM        & \\textbf{  Df Residuals:      } &       28    \\\\\n\\textbf{Model Family:}    &     Poisson      & \\textbf{  Df Model:          } &        1    \\\\\n\\textbf{Link Function:}   &       Log        & \\textbf{  Scale:             } &    1.0000   \\\\\n\\textbf{Method:}          &       IRLS       & \\textbf{  Log-Likelihood:    } &   -57.672   \\\\\n\\textbf{Date:}            & Thu, 24 Oct 2024 & \\textbf{  Deviance:          } &    5.1373   \\\\\n\\textbf{Time:}            &     16:07:40     & \\textbf{  Pearson chi2:      } &     5.40    \\\\\n\\textbf{No. Iterations:}  &        4         & \\textbf{  Pseudo R-squ. (CS):} &   0.9708    \\\\\n\\textbf{Covariance Type:} &    nonrobust     & \\textbf{                     } &             \\\\\n\\bottomrule\n\\end{tabular}\n\\begin{tabular}{lcccccc}\n                     & \\textbf{coef} & \\textbf{std err} & \\textbf{z} & \\textbf{P$> |$z$|$} & \\textbf{[0.025} & \\textbf{0.975]}  \\\\\n\\midrule\n\\textbf{Intercept}   &       0.4476  &        0.199     &     2.253  &         0.024        &        0.058    &        0.837     \\\\\n\\textbf{temperature} &       0.0761  &        0.008     &     9.784  &         0.000        &        0.061    &        0.091     \\\\\n\\bottomrule\n\\end{tabular}\n%\\caption{Generalized Linear Model Regression Results}\n\\end{center}"
     },
     "execution_count": 8,
     "metadata": {},
     "output_type": "execute_result"
    }
   ],
   "execution_count": 8
  },
  {
   "cell_type": "markdown",
   "metadata": {},
   "source": [
    "### 実装：ポアソン回帰のモデル選択"
   ]
  },
  {
   "cell_type": "code",
   "metadata": {
    "ExecuteTime": {
     "end_time": "2024-10-24T07:07:40.885730Z",
     "start_time": "2024-10-24T07:07:40.865732Z"
    }
   },
   "source": [
    "# Nullモデル\n",
    "mod_pois_null = smf.glm(\n",
    "    'beer_number ~ 1', data=beer, \n",
    "    family=sm.families.Poisson()).fit()"
   ],
   "outputs": [],
   "execution_count": 9
  },
  {
   "cell_type": "code",
   "metadata": {
    "ExecuteTime": {
     "end_time": "2024-10-24T07:07:40.992932Z",
     "start_time": "2024-10-24T07:07:40.977011Z"
    }
   },
   "source": [
    "# AICの比較\n",
    "print('Nullモデル　　：', round(mod_pois_null.aic, 3))\n",
    "print('変数入りモデル：', round(mod_pois.aic, 3))"
   ],
   "outputs": [
    {
     "name": "stdout",
     "output_type": "stream",
     "text": [
      "Nullモデル　　： 223.363\n",
      "変数入りモデル： 119.343\n"
     ]
    }
   ],
   "execution_count": 10
  },
  {
   "cell_type": "markdown",
   "metadata": {},
   "source": [
    "### 実装：ポアソン回帰による予測"
   ]
  },
  {
   "cell_type": "markdown",
   "metadata": {},
   "source": [
    "#### predict関数を使った予測"
   ]
  },
  {
   "cell_type": "code",
   "metadata": {
    "ExecuteTime": {
     "end_time": "2024-10-24T07:07:41.038381Z",
     "start_time": "2024-10-24T07:07:41.026813Z"
    }
   },
   "source": [
    "# 説明変数\n",
    "exp_val_20 = pd.DataFrame({'temperature': [20]})\n",
    "# 売り上げ個数の予測値\n",
    "mod_pois.predict(exp_val_20)"
   ],
   "outputs": [
    {
     "data": {
      "text/plain": [
       "0    7.164\n",
       "dtype: float64"
      ]
     },
     "execution_count": 11,
     "metadata": {},
     "output_type": "execute_result"
    }
   ],
   "execution_count": 11
  },
  {
   "cell_type": "markdown",
   "metadata": {},
   "source": [
    "#### 推定された係数を使った予測"
   ]
  },
  {
   "cell_type": "code",
   "metadata": {
    "ExecuteTime": {
     "end_time": "2024-10-24T07:07:41.145901Z",
     "start_time": "2024-10-24T07:07:41.132483Z"
    }
   },
   "source": [
    "beta0 = mod_pois.params[0]\n",
    "beta1 = mod_pois.params[1]\n",
    "temperature = 20\n",
    "\n",
    "round(np.exp(beta0 + beta1 * temperature), 3)"
   ],
   "outputs": [
    {
     "name": "stderr",
     "output_type": "stream",
     "text": [
      "C:\\Users\\kakim\\AppData\\Local\\Temp\\ipykernel_18052\\336262741.py:1: FutureWarning: Series.__getitem__ treating keys as positions is deprecated. In a future version, integer keys will always be treated as labels (consistent with DataFrame behavior). To access a value by position, use `ser.iloc[pos]`\n",
      "  beta0 = mod_pois.params[0]\n",
      "C:\\Users\\kakim\\AppData\\Local\\Temp\\ipykernel_18052\\336262741.py:2: FutureWarning: Series.__getitem__ treating keys as positions is deprecated. In a future version, integer keys will always be treated as labels (consistent with DataFrame behavior). To access a value by position, use `ser.iloc[pos]`\n",
      "  beta1 = mod_pois.params[1]\n"
     ]
    },
    {
     "data": {
      "text/plain": [
       "7.164"
      ]
     },
     "execution_count": 12,
     "metadata": {},
     "output_type": "execute_result"
    }
   ],
   "execution_count": 12
  },
  {
   "cell_type": "markdown",
   "metadata": {},
   "source": [
    "### 実装：ポアソン回帰の回帰曲線"
   ]
  },
  {
   "cell_type": "code",
   "metadata": {
    "ExecuteTime": {
     "end_time": "2024-10-24T07:07:41.754177Z",
     "start_time": "2024-10-24T07:07:41.323836Z"
    }
   },
   "source": [
    "# 予測値の作成\n",
    "x_plot = np.arange(0, 37)\n",
    "pred = mod_pois.predict(pd.DataFrame({'temperature': x_plot}))\n",
    "\n",
    "# 散布図\n",
    "sns.scatterplot(x='temperature', y='beer_number',\n",
    "                data=beer, color='black')\n",
    "# 回帰曲線を上書き\n",
    "sns.lineplot(x=x_plot, y=pred, color='black')"
   ],
   "outputs": [
    {
     "name": "stderr",
     "output_type": "stream",
     "text": [
      "C:\\Users\\kakim\\scoop\\apps\\python\\current\\lib\\site-packages\\seaborn\\_oldcore.py:1119: FutureWarning: use_inf_as_na option is deprecated and will be removed in a future version. Convert inf values to NaN before operating instead.\n",
      "  with pd.option_context('mode.use_inf_as_na', True):\n",
      "C:\\Users\\kakim\\scoop\\apps\\python\\current\\lib\\site-packages\\seaborn\\_oldcore.py:1119: FutureWarning: use_inf_as_na option is deprecated and will be removed in a future version. Convert inf values to NaN before operating instead.\n",
      "  with pd.option_context('mode.use_inf_as_na', True):\n"
     ]
    },
    {
     "data": {
      "text/plain": [
       "<Axes: xlabel='temperature', ylabel='beer_number'>"
      ]
     },
     "execution_count": 13,
     "metadata": {},
     "output_type": "execute_result"
    },
    {
     "data": {
      "text/plain": [
       "<Figure size 432x288 with 1 Axes>"
      ],
      "image/png": "[encoded data removed]"
     },
     "metadata": {
      "needs_background": "light"
     },
     "output_type": "display_data"
    }
   ],
   "execution_count": 13
  },
  {
   "cell_type": "markdown",
   "metadata": {},
   "source": [
    "### 実装：回帰係数の解釈"
   ]
  },
  {
   "cell_type": "code",
   "metadata": {
    "ExecuteTime": {
     "end_time": "2024-10-24T07:07:41.923487Z",
     "start_time": "2024-10-24T07:07:41.854109Z"
    }
   },
   "source": [
    "# 気温が1℃のときの販売個数の期待値\n",
    "exp_val_1 = pd.DataFrame({'temperature': [1]})\n",
    "pred_1 = mod_pois.predict(exp_val_1)\n",
    "\n",
    "# 気温が2℃のときの販売個数の期待値\n",
    "exp_val_2 = pd.DataFrame({'temperature': [2]})\n",
    "pred_2 = mod_pois.predict(exp_val_2)\n",
    "\n",
    "# 気温が1℃上がると、販売個数は何倍になるか\n",
    "round(pred_2 / pred_1, 3)"
   ],
   "outputs": [
    {
     "data": {
      "text/plain": [
       "0    1.079\n",
       "dtype: float64"
      ]
     },
     "execution_count": 14,
     "metadata": {},
     "output_type": "execute_result"
    }
   ],
   "execution_count": 14
  },
  {
   "cell_type": "code",
   "metadata": {
    "ExecuteTime": {
     "end_time": "2024-10-24T07:07:42.076388Z",
     "start_time": "2024-10-24T07:07:42.064112Z"
    }
   },
   "source": [
    "# 係数のexpをとる\n",
    "round(np.exp(mod_pois.params['temperature']), 3)"
   ],
   "outputs": [
    {
     "data": {
      "text/plain": [
       "1.079"
      ]
     },
     "execution_count": 15,
     "metadata": {},
     "output_type": "execute_result"
    }
   ],
   "execution_count": 15
  }
 ],
 "metadata": {
  "kernelspec": {
   "display_name": "Python 3 (ipykernel)",
   "language": "python",
   "name": "python3"
  },
  "language_info": {
   "codemirror_mode": {
    "name": "ipython",
    "version": 3
   },
   "file_extension": ".py",
   "mimetype": "text/x-python",
   "name": "python",
   "nbconvert_exporter": "python",
   "pygments_lexer": "ipython3",
   "version": "3.9.7"
  }
 },
 "nbformat": 4,
 "nbformat_minor": 2
}
