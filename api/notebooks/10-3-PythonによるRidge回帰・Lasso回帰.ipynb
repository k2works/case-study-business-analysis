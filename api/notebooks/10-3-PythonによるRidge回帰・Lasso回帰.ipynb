{
 "cells": [
  {
   "cell_type": "markdown",
   "metadata": {},
   "source": [
    "# 第10部　統計学と機械学習\n",
    "\n",
    "## 3章　PythonによるRidge回帰・Lasso回帰"
   ]
  },
  {
   "cell_type": "markdown",
   "metadata": {},
   "source": [
    "### 実装：分析の準備"
   ]
  },
  {
   "cell_type": "code",
   "metadata": {
    "ExecuteTime": {
     "end_time": "2024-10-24T07:08:00.779123Z",
     "start_time": "2024-10-24T07:08:00.008244Z"
    }
   },
   "source": [
    "# 数値計算に使うライブラリ\n",
    "import numpy as np\n",
    "import pandas as pd\n",
    "from scipy import stats\n",
    "# 表示桁数の設定\n",
    "pd.set_option('display.precision', 3)\n",
    "np.set_printoptions(precision=3)\n",
    "\n",
    "# グラフを描画するライブラリ\n",
    "from matplotlib import pyplot as plt\n",
    "import seaborn as sns\n",
    "sns.set()\n",
    "\n",
    "# 統計モデルを推定するライブラリ\n",
    "import statsmodels.formula.api as smf\n",
    "import statsmodels.api as sm\n",
    "\n",
    "# 機械学習法を適用するためのライブラリ\n",
    "from sklearn import linear_model"
   ],
   "outputs": [],
   "execution_count": 1
  },
  {
   "cell_type": "code",
   "metadata": {
    "ExecuteTime": {
     "end_time": "2024-10-24T07:08:00.794562Z",
     "start_time": "2024-10-24T07:08:00.786472Z"
    }
   },
   "source": [
    "# 表示設定(書籍本文のレイアウトと合わせるためであり、必須ではありません)\n",
    "np.set_printoptions(linewidth=60)\n",
    "pd.set_option('display.width', 60)\n",
    "\n",
    "from matplotlib.pylab import rcParams\n",
    "rcParams['figure.figsize'] = 8, 4"
   ],
   "outputs": [],
   "execution_count": 2
  },
  {
   "cell_type": "code",
   "metadata": {
    "ExecuteTime": {
     "end_time": "2024-10-24T07:08:01.248488Z",
     "start_time": "2024-10-24T07:08:01.221380Z"
    }
   },
   "source": [
    "# ファイルからのデータ読み込み\n",
    "X = pd.read_csv('10-3-1-large-data.csv')\n",
    "print(X.head(3))"
   ],
   "outputs": [
    {
     "name": "stdout",
     "output_type": "stream",
     "text": [
      "     X_1    X_2    X_3    X_4    X_5    X_6    X_7    X_8  \\\n",
      "0  1.000  0.500  0.333  0.250  0.200  0.167  0.143  0.125   \n",
      "1  0.500  0.333  0.250  0.200  0.167  0.143  0.125  0.111   \n",
      "2  0.333  0.250  0.200  0.167  0.143  0.125  0.111  0.100   \n",
      "\n",
      "     X_9   X_10  ...   X_91   X_92   X_93   X_94   X_95  \\\n",
      "0  0.111  0.100  ...  0.011  0.011  0.011  0.011  0.011   \n",
      "1  0.100  0.091  ...  0.011  0.011  0.011  0.011  0.010   \n",
      "2  0.091  0.083  ...  0.011  0.011  0.011  0.010  0.010   \n",
      "\n",
      "   X_96  X_97  X_98  X_99  X_100  \n",
      "0  0.01  0.01  0.01  0.01   0.01  \n",
      "1  0.01  0.01  0.01  0.01   0.01  \n",
      "2  0.01  0.01  0.01  0.01   0.01  \n",
      "\n",
      "[3 rows x 100 columns]\n"
     ]
    }
   ],
   "execution_count": 3
  },
  {
   "cell_type": "markdown",
   "metadata": {},
   "source": [
    "### 実装：説明変数の標準化"
   ]
  },
  {
   "cell_type": "code",
   "metadata": {
    "ExecuteTime": {
     "end_time": "2024-10-24T07:08:01.294097Z",
     "start_time": "2024-10-24T07:08:01.281797Z"
    }
   },
   "source": [
    "# X_1の平均値\n",
    "round(np.mean(X.X_1), 3)"
   ],
   "outputs": [
    {
     "data": {
      "text/plain": [
       "0.037"
      ]
     },
     "execution_count": 4,
     "metadata": {},
     "output_type": "execute_result"
    }
   ],
   "execution_count": 4
  },
  {
   "cell_type": "code",
   "metadata": {
    "ExecuteTime": {
     "end_time": "2024-10-24T07:08:01.354736Z",
     "start_time": "2024-10-24T07:08:01.341384Z"
    }
   },
   "source": [
    "# すべての説明変数の平均値\n",
    "np.mean(X, axis=0).head(3)"
   ],
   "outputs": [
    {
     "data": {
      "text/plain": [
       "X_1    0.037\n",
       "X_2    0.031\n",
       "X_3    0.027\n",
       "dtype: float64"
      ]
     },
     "execution_count": 5,
     "metadata": {},
     "output_type": "execute_result"
    }
   ],
   "execution_count": 5
  },
  {
   "cell_type": "code",
   "metadata": {
    "ExecuteTime": {
     "end_time": "2024-10-24T07:08:01.460696Z",
     "start_time": "2024-10-24T07:08:01.447668Z"
    }
   },
   "source": [
    "# 標準化\n",
    "X -= np.mean(X, axis=0)\n",
    "X /= np.std(X, ddof=1, axis=0)"
   ],
   "outputs": [],
   "execution_count": 6
  },
  {
   "cell_type": "code",
   "metadata": {
    "ExecuteTime": {
     "end_time": "2024-10-24T07:08:01.552903Z",
     "start_time": "2024-10-24T07:08:01.540977Z"
    }
   },
   "source": [
    "# 確認\n",
    "np.mean(X, axis=0).head(3).round(3)"
   ],
   "outputs": [
    {
     "data": {
      "text/plain": [
       "X_1   -0.0\n",
       "X_2   -0.0\n",
       "X_3    0.0\n",
       "dtype: float64"
      ]
     },
     "execution_count": 7,
     "metadata": {},
     "output_type": "execute_result"
    }
   ],
   "execution_count": 7
  },
  {
   "cell_type": "code",
   "metadata": {
    "ExecuteTime": {
     "end_time": "2024-10-24T07:08:01.735353Z",
     "start_time": "2024-10-24T07:08:01.724206Z"
    }
   },
   "source": [
    "# 確認\n",
    "np.std(X, ddof=1, axis=0).head(3).round(3)"
   ],
   "outputs": [
    {
     "data": {
      "text/plain": [
       "X_1    1.0\n",
       "X_2    1.0\n",
       "X_3    1.0\n",
       "dtype: float64"
      ]
     },
     "execution_count": 8,
     "metadata": {},
     "output_type": "execute_result"
    }
   ],
   "execution_count": 8
  },
  {
   "cell_type": "markdown",
   "metadata": {},
   "source": [
    "### 実装：シミュレーションで応答変数を作る"
   ]
  },
  {
   "cell_type": "code",
   "metadata": {
    "ExecuteTime": {
     "end_time": "2024-10-24T07:08:02.039416Z",
     "start_time": "2024-10-24T07:08:02.026870Z"
    }
   },
   "source": [
    "# 応答変数を作る\n",
    "\n",
    "# 正規分布に従うノイズ\n",
    "np.random.seed(1)\n",
    "noise =  stats.norm.rvs(loc=0, scale=1, size=X.shape[0])\n",
    "\n",
    "# 正しい係数は5として応答変数を作る\n",
    "y =  X.X_1 * 5 + noise"
   ],
   "outputs": [],
   "execution_count": 9
  },
  {
   "cell_type": "code",
   "metadata": {
    "ExecuteTime": {
     "end_time": "2024-10-24T07:08:04.207608Z",
     "start_time": "2024-10-24T07:08:02.393922Z"
    }
   },
   "source": [
    "# 応答変数と説明変数をまとめる\n",
    "large_data = pd.concat([pd.DataFrame({'y':y}), X], axis=1)\n",
    "# 散布図の作成\n",
    "sns.jointplot(y='y', x='X_1', data=large_data,\n",
    "              color='black')"
   ],
   "outputs": [
    {
     "name": "stderr",
     "output_type": "stream",
     "text": [
      "C:\\Users\\kakim\\scoop\\apps\\python\\current\\lib\\site-packages\\seaborn\\_oldcore.py:1119: FutureWarning: use_inf_as_na option is deprecated and will be removed in a future version. Convert inf values to NaN before operating instead.\n",
      "  with pd.option_context('mode.use_inf_as_na', True):\n",
      "C:\\Users\\kakim\\scoop\\apps\\python\\current\\lib\\site-packages\\seaborn\\_oldcore.py:1119: FutureWarning: use_inf_as_na option is deprecated and will be removed in a future version. Convert inf values to NaN before operating instead.\n",
      "  with pd.option_context('mode.use_inf_as_na', True):\n"
     ]
    },
    {
     "data": {
      "text/plain": [
       "<seaborn.axisgrid.JointGrid at 0x20622eef910>"
      ]
     },
     "execution_count": 10,
     "metadata": {},
     "output_type": "execute_result"
    },
    {
     "data": {
      "text/plain": [
       "<Figure size 432x432 with 3 Axes>"
      ],
      "image/png": "[encoded data removed]"
     },
     "metadata": {
      "needs_background": "light"
     },
     "output_type": "display_data"
    }
   ],
   "execution_count": 10
  },
  {
   "cell_type": "markdown",
   "metadata": {},
   "source": [
    "### 実装：普通の最小二乗法を適用する"
   ]
  },
  {
   "cell_type": "code",
   "metadata": {
    "scrolled": false,
    "ExecuteTime": {
     "end_time": "2024-10-24T07:08:04.329545Z",
     "start_time": "2024-10-24T07:08:04.271434Z"
    }
   },
   "source": [
    "lm_statsmodels = sm.OLS(endog=y, exog=X).fit()\n",
    "lm_statsmodels.params.head(3)"
   ],
   "outputs": [
    {
     "data": {
      "text/plain": [
       "X_1     14.755\n",
       "X_2    -87.463\n",
       "X_3    211.743\n",
       "dtype: float64"
      ]
     },
     "execution_count": 11,
     "metadata": {},
     "output_type": "execute_result"
    }
   ],
   "execution_count": 11
  },
  {
   "cell_type": "markdown",
   "metadata": {},
   "source": [
    "### 実装：sklearnによる線形回帰"
   ]
  },
  {
   "cell_type": "code",
   "metadata": {
    "scrolled": false,
    "ExecuteTime": {
     "end_time": "2024-10-24T07:08:04.772609Z",
     "start_time": "2024-10-24T07:08:04.438854Z"
    }
   },
   "source": [
    "# どんなモデルを作るかをまずは指定\n",
    "lm_sklearn = linear_model.LinearRegression()\n",
    "# データを指定して、モデルを推定\n",
    "lm_sklearn.fit(X, y)\n",
    "# 推定されたパラメータ(array型)\n",
    "lm_sklearn.coef_"
   ],
   "outputs": [
    {
     "data": {
      "text/plain": [
       "array([ 1.476e+01, -8.746e+01,  2.117e+02, -9.415e+01,\n",
       "       -6.817e+01, -9.284e+01,  1.761e+00,  8.170e+01,\n",
       "        6.680e+01,  2.788e+01, -3.288e+01,  6.818e+01,\n",
       "       -1.699e+01,  2.208e+01, -4.855e+01, -3.390e+01,\n",
       "       -4.536e+01,  9.728e+00,  2.481e+01,  1.858e+00,\n",
       "        1.599e+00, -2.838e+01,  6.477e+00, -5.980e+01,\n",
       "        3.532e+01, -1.302e+01,  4.108e+01, -4.303e+01,\n",
       "        5.247e+01,  1.920e+00,  3.342e+01,  8.490e+00,\n",
       "        8.329e+00, -2.293e+01, -3.577e+01, -1.337e+01,\n",
       "        3.178e+01, -2.018e+01, -2.654e+01, -3.523e+01,\n",
       "        1.927e+01,  4.823e+01, -1.655e+00,  5.749e-01,\n",
       "       -1.893e+01,  7.370e-01,  1.047e+01, -7.732e+00,\n",
       "       -1.854e+00, -2.559e-01, -5.045e+00, -4.227e+00,\n",
       "        2.523e+01,  1.616e+01, -1.310e+01,  6.455e+00,\n",
       "       -1.332e+01, -2.291e+01, -1.202e+01,  7.745e+00,\n",
       "        1.755e+01,  5.997e+00,  4.648e+00,  4.120e+00,\n",
       "       -1.825e+00,  5.366e+00,  4.546e+00, -2.598e+00,\n",
       "       -4.091e+00,  7.496e+00,  3.100e+01,  1.530e+01,\n",
       "       -5.323e+00, -1.509e+01, -3.801e+00, -6.584e+00,\n",
       "       -7.203e-02, -4.237e+00,  3.355e+00,  3.176e+00,\n",
       "        6.025e+00, -2.422e-01,  2.628e+00, -2.131e-02,\n",
       "       -8.349e+00, -5.091e+00, -5.060e+00, -4.779e+00,\n",
       "        7.645e+00,  1.797e+00,  4.276e+00,  1.418e-01,\n",
       "        2.800e+00,  3.146e+00, -5.188e+00, -2.479e+00,\n",
       "       -1.306e+01, -5.545e+00, -2.923e+00,  2.945e+00])"
      ]
     },
     "execution_count": 12,
     "metadata": {},
     "output_type": "execute_result"
    }
   ],
   "execution_count": 12
  },
  {
   "cell_type": "markdown",
   "metadata": {},
   "source": [
    "### 実装：Ridge回帰-罰則項の影響"
   ]
  },
  {
   "cell_type": "code",
   "metadata": {
    "ExecuteTime": {
     "end_time": "2024-10-24T07:08:04.880133Z",
     "start_time": "2024-10-24T07:08:04.868554Z"
    }
   },
   "source": [
    "# αを変化させる\n",
    "n_alphas = 50\n",
    "ridge_alphas = np.logspace(-2, 0.7, n_alphas)"
   ],
   "outputs": [],
   "execution_count": 13
  },
  {
   "cell_type": "code",
   "metadata": {
    "ExecuteTime": {
     "end_time": "2024-10-24T07:08:04.911031Z",
     "start_time": "2024-10-24T07:08:04.900989Z"
    }
   },
   "source": [
    "# ridge_alphasの対数をとった結果\n",
    "np.log10(ridge_alphas)"
   ],
   "outputs": [
    {
     "data": {
      "text/plain": [
       "array([-2.   , -1.945, -1.89 , -1.835, -1.78 , -1.724,\n",
       "       -1.669, -1.614, -1.559, -1.504, -1.449, -1.394,\n",
       "       -1.339, -1.284, -1.229, -1.173, -1.118, -1.063,\n",
       "       -1.008, -0.953, -0.898, -0.843, -0.788, -0.733,\n",
       "       -0.678, -0.622, -0.567, -0.512, -0.457, -0.402,\n",
       "       -0.347, -0.292, -0.237, -0.182, -0.127, -0.071,\n",
       "       -0.016,  0.039,  0.094,  0.149,  0.204,  0.259,\n",
       "        0.314,  0.369,  0.424,  0.48 ,  0.535,  0.59 ,\n",
       "        0.645,  0.7  ])"
      ]
     },
     "execution_count": 14,
     "metadata": {},
     "output_type": "execute_result"
    }
   ],
   "execution_count": 14
  },
  {
   "cell_type": "code",
   "metadata": {
    "ExecuteTime": {
     "end_time": "2024-10-24T07:08:05.412961Z",
     "start_time": "2024-10-24T07:08:05.159739Z"
    }
   },
   "source": [
    "# αを変えて何度もRidge回帰を実行\n",
    "\n",
    "# 推定された回帰係数を格納するリスト\n",
    "ridge_coefs = []\n",
    "# forループで何度もRidge回帰を推定する\n",
    "for a in ridge_alphas:\n",
    "    ridge = linear_model.Ridge(alpha=a, fit_intercept=False)\n",
    "    ridge.fit(X, y)\n",
    "    ridge_coefs.append(ridge.coef_)"
   ],
   "outputs": [],
   "execution_count": 15
  },
  {
   "cell_type": "code",
   "metadata": {
    "ExecuteTime": {
     "end_time": "2024-10-24T07:08:05.488908Z",
     "start_time": "2024-10-24T07:08:05.476590Z"
    }
   },
   "source": [
    "# アレイに変換\n",
    "ridge_coefs = np.array(ridge_coefs)\n",
    "ridge_coefs.shape"
   ],
   "outputs": [
    {
     "data": {
      "text/plain": [
       "(50, 100)"
      ]
     },
     "execution_count": 16,
     "metadata": {},
     "output_type": "execute_result"
    }
   ],
   "execution_count": 16
  },
  {
   "cell_type": "code",
   "metadata": {
    "scrolled": true,
    "ExecuteTime": {
     "end_time": "2024-10-24T07:08:06.037328Z",
     "start_time": "2024-10-24T07:08:05.646270Z"
    }
   },
   "source": [
    "# 参考：αを2回だけ変化させた結果(書籍には載っていないコードです)\n",
    "\n",
    "log_alphas = -np.log10(ridge_alphas)\n",
    "plt.plot(log_alphas, ridge_coefs[::,0], color='black')\n",
    "plt.plot(log_alphas, ridge_coefs[::,1], color='black')\n",
    "\n",
    "plt.xlim([min(log_alphas)-0.1, max(log_alphas) + 0.3])\n",
    "plt.ylim([-8, 10.5])"
   ],
   "outputs": [
    {
     "data": {
      "text/plain": [
       "(-8.0, 10.5)"
      ]
     },
     "execution_count": 17,
     "metadata": {},
     "output_type": "execute_result"
    },
    {
     "data": {
      "text/plain": [
       "<Figure size 432x288 with 1 Axes>"
      ],
      "image/png": "[encoded data removed]"
     },
     "metadata": {
      "needs_background": "light"
     },
     "output_type": "display_data"
    }
   ],
   "execution_count": 17
  },
  {
   "cell_type": "code",
   "metadata": {
    "ExecuteTime": {
     "end_time": "2024-10-24T07:08:06.632970Z",
     "start_time": "2024-10-24T07:08:06.113617Z"
    }
   },
   "source": [
    "# X軸に-log10(α)、Y軸に係数を置いた折れ線グラフ\n",
    "# 100回繰り返さなくても、自動で線を100本引いてくれる\n",
    "\n",
    "# αを変換\n",
    "log_alphas = -np.log10(ridge_alphas)\n",
    "# X軸に-log10(α)、Y軸に係数を置いた折れ線グラフ\n",
    "plt.plot(log_alphas, ridge_coefs, color='black')\n",
    "# 説明変数X_1の係数がわかるように目印を入れる\n",
    "plt.text(max(log_alphas) + 0.1, ridge_coefs[0,0], 'X_1')\n",
    "# X軸の範囲\n",
    "plt.xlim([min(log_alphas) - 0.1, max(log_alphas) + 0.3])\n",
    "# 軸ラベル\n",
    "plt.title('Ridge')\n",
    "plt.xlabel('- log10(alpha)')\n",
    "plt.ylabel('Coefficients')"
   ],
   "outputs": [
    {
     "data": {
      "text/plain": [
       "Text(0, 0.5, 'Coefficients')"
      ]
     },
     "execution_count": 18,
     "metadata": {},
     "output_type": "execute_result"
    },
    {
     "data": {
      "text/plain": [
       "<Figure size 432x288 with 1 Axes>"
      ],
      "image/png": "[encoded data removed]"
     },
     "metadata": {
      "needs_background": "light"
     },
     "output_type": "display_data"
    }
   ],
   "execution_count": 18
  },
  {
   "cell_type": "markdown",
   "metadata": {},
   "source": [
    "### 実装：Ridge回帰-最適な正則化の強度の決定"
   ]
  },
  {
   "cell_type": "code",
   "metadata": {
    "ExecuteTime": {
     "end_time": "2024-10-24T07:08:11.897259Z",
     "start_time": "2024-10-24T07:08:06.680918Z"
    }
   },
   "source": [
    "# CVで最適なαを求める\n",
    "ridge_best = linear_model.RidgeCV(\n",
    "    cv=10, alphas=ridge_alphas, fit_intercept=False)\n",
    "ridge_best.fit(X, y) \n",
    "\n",
    "# 最適な-log10(α)\n",
    "round(-np.log10(ridge_best.alpha_), 3)"
   ],
   "outputs": [
    {
     "data": {
      "text/plain": [
       "0.237"
      ]
     },
     "execution_count": 19,
     "metadata": {},
     "output_type": "execute_result"
    }
   ],
   "execution_count": 19
  },
  {
   "cell_type": "code",
   "metadata": {
    "ExecuteTime": {
     "end_time": "2024-10-24T07:08:11.958503Z",
     "start_time": "2024-10-24T07:08:11.946505Z"
    }
   },
   "source": [
    "# 最適なα\n",
    "round(ridge_best.alpha_, 3)"
   ],
   "outputs": [
    {
     "data": {
      "text/plain": [
       "0.58"
      ]
     },
     "execution_count": 20,
     "metadata": {},
     "output_type": "execute_result"
    }
   ],
   "execution_count": 20
  },
  {
   "cell_type": "code",
   "metadata": {
    "scrolled": false,
    "ExecuteTime": {
     "end_time": "2024-10-24T07:08:12.020425Z",
     "start_time": "2024-10-24T07:08:12.008659Z"
    }
   },
   "source": [
    "# 最適なαの時の、回帰係数\n",
    "ridge_best.coef_.round(2)"
   ],
   "outputs": [
    {
     "data": {
      "text/plain": [
       "array([ 4.46,  1.29,  0.29, -0.09, -0.2 , -0.23, -0.22,\n",
       "       -0.21, -0.14, -0.14, -0.15, -0.05, -0.1 , -0.02,\n",
       "       -0.11, -0.01, -0.09,  0.01, -0.02, -0.03,  0.02,\n",
       "       -0.03,  0.04, -0.09,  0.13,  0.02,  0.06, -0.08,\n",
       "        0.14, -0.01,  0.1 ,  0.12, -0.04,  0.04, -0.03,\n",
       "        0.02,  0.12, -0.17, -0.01, -0.18,  0.09,  0.22,\n",
       "        0.04, -0.03, -0.01,  0.03,  0.34, -0.19, -0.11,\n",
       "        0.21, -0.13, -0.25,  0.25,  0.13, -0.16,  0.27,\n",
       "        0.03, -0.17, -0.18,  0.16, -0.01,  0.01,  0.19,\n",
       "        0.13, -0.16, -0.02,  0.26,  0.22, -0.18,  0.01,\n",
       "        0.53,  0.18, -0.35, -0.12,  0.23, -0.04, -0.12,\n",
       "       -0.05,  0.21,  0.19, -0.04, -0.2 , -0.1 ,  0.06,\n",
       "       -0.22,  0.15, -0.04, -0.11,  0.21,  0.01,  0.13,\n",
       "       -0.03, -0.02, -0.23, -0.2 ,  0.24, -0.31, -0.4 ,\n",
       "       -0.16,  0.16])"
      ]
     },
     "execution_count": 21,
     "metadata": {},
     "output_type": "execute_result"
    }
   ],
   "execution_count": 21
  },
  {
   "cell_type": "markdown",
   "metadata": {},
   "source": [
    "###  実装：Lasso回帰-罰則項の影響"
   ]
  },
  {
   "cell_type": "code",
   "metadata": {
    "ExecuteTime": {
     "end_time": "2024-10-24T07:08:12.828145Z",
     "start_time": "2024-10-24T07:08:12.068929Z"
    }
   },
   "source": [
    "# αを変えて何度もLasso回帰を実行\n",
    "lasso_alphas, lasso_coefs, _ = linear_model.lasso_path(\n",
    "    X, y, fit_intercept=False)"
   ],
   "outputs": [
    {
     "ename": "ValueError",
     "evalue": "('Unexpected parameters in params', dict_keys(['fit_intercept']))",
     "output_type": "error",
     "traceback": [
      "\u001B[1;31m---------------------------------------------------------------------------\u001B[0m",
      "\u001B[1;31mValueError\u001B[0m                                Traceback (most recent call last)",
      "\u001B[1;32m~\\AppData\\Local\\Temp\\ipykernel_27764\\119723266.py\u001B[0m in \u001B[0;36m<module>\u001B[1;34m\u001B[0m\n\u001B[0;32m      1\u001B[0m \u001B[1;31m# αを変えて何度もLasso回帰を実行\u001B[0m\u001B[1;33m\u001B[0m\u001B[1;33m\u001B[0m\u001B[1;33m\u001B[0m\u001B[0m\n\u001B[1;32m----> 2\u001B[1;33m lasso_alphas, lasso_coefs, _ = linear_model.lasso_path(\n\u001B[0m\u001B[0;32m      3\u001B[0m     X, y, fit_intercept=False)\n",
      "\u001B[1;32m~\\scoop\\apps\\python\\current\\lib\\site-packages\\sklearn\\linear_model\\_coordinate_descent.py\u001B[0m in \u001B[0;36mlasso_path\u001B[1;34m(X, y, eps, n_alphas, alphas, precompute, Xy, copy_X, coef_init, verbose, return_n_iter, positive, **params)\u001B[0m\n\u001B[0;32m    330\u001B[0m      [0.2159048  0.4425765  0.23668876]]\n\u001B[0;32m    331\u001B[0m     \"\"\"\n\u001B[1;32m--> 332\u001B[1;33m     return enet_path(\n\u001B[0m\u001B[0;32m    333\u001B[0m         \u001B[0mX\u001B[0m\u001B[1;33m,\u001B[0m\u001B[1;33m\u001B[0m\u001B[1;33m\u001B[0m\u001B[0m\n\u001B[0;32m    334\u001B[0m         \u001B[0my\u001B[0m\u001B[1;33m,\u001B[0m\u001B[1;33m\u001B[0m\u001B[1;33m\u001B[0m\u001B[0m\n",
      "\u001B[1;32m~\\scoop\\apps\\python\\current\\lib\\site-packages\\sklearn\\linear_model\\_coordinate_descent.py\u001B[0m in \u001B[0;36menet_path\u001B[1;34m(X, y, l1_ratio, eps, n_alphas, alphas, precompute, Xy, copy_X, coef_init, verbose, return_n_iter, positive, check_input, **params)\u001B[0m\n\u001B[0;32m    491\u001B[0m \u001B[1;33m\u001B[0m\u001B[0m\n\u001B[0;32m    492\u001B[0m     \u001B[1;32mif\u001B[0m \u001B[0mlen\u001B[0m\u001B[1;33m(\u001B[0m\u001B[0mparams\u001B[0m\u001B[1;33m)\u001B[0m \u001B[1;33m>\u001B[0m \u001B[1;36m0\u001B[0m\u001B[1;33m:\u001B[0m\u001B[1;33m\u001B[0m\u001B[1;33m\u001B[0m\u001B[0m\n\u001B[1;32m--> 493\u001B[1;33m         \u001B[1;32mraise\u001B[0m \u001B[0mValueError\u001B[0m\u001B[1;33m(\u001B[0m\u001B[1;34m\"Unexpected parameters in params\"\u001B[0m\u001B[1;33m,\u001B[0m \u001B[0mparams\u001B[0m\u001B[1;33m.\u001B[0m\u001B[0mkeys\u001B[0m\u001B[1;33m(\u001B[0m\u001B[1;33m)\u001B[0m\u001B[1;33m)\u001B[0m\u001B[1;33m\u001B[0m\u001B[1;33m\u001B[0m\u001B[0m\n\u001B[0m\u001B[0;32m    494\u001B[0m \u001B[1;33m\u001B[0m\u001B[0m\n\u001B[0;32m    495\u001B[0m     \u001B[1;31m# We expect X and y to be already Fortran ordered when bypassing\u001B[0m\u001B[1;33m\u001B[0m\u001B[1;33m\u001B[0m\u001B[1;33m\u001B[0m\u001B[0m\n",
      "\u001B[1;31mValueError\u001B[0m: ('Unexpected parameters in params', dict_keys(['fit_intercept']))"
     ]
    }
   ],
   "execution_count": 22
  },
  {
   "cell_type": "code",
   "execution_count": 23,
   "metadata": {},
   "outputs": [
    {
     "data": {
      "text/plain": [
       "Text(0, 0.5, 'Coefficients')"
      ]
     },
     "execution_count": 23,
     "metadata": {},
     "output_type": "execute_result"
    },
    {
     "data": {
      "image/png": "[encoded data removed]",
      "text/plain": [
       "<Figure size 576x288 with 1 Axes>"
      ]
     },
     "metadata": {},
     "output_type": "display_data"
    }
   ],
   "source": [
    "# Lasso回帰のsolution-path\n",
    "\n",
    "# αを変換\n",
    "log_alphas = -np.log10(lasso_alphas)\n",
    "# X軸に-log10(α)、Y軸に係数を置いた折れ線グラフ\n",
    "plt.plot(log_alphas, lasso_coefs.T, color='black')\n",
    "# 説明変数X_1の係数がわかるように目印を入れる\n",
    "plt.text(max(log_alphas) + 0.1, lasso_coefs[0, -1], 'X_1')\n",
    "# X軸の範囲\n",
    "plt.xlim([min(log_alphas)-0.1, max(log_alphas) + 0.3])\n",
    "# 軸ラベル\n",
    "plt.title('Lasso')\n",
    "plt.xlabel('- log10(alpha)')\n",
    "plt.ylabel('Coefficients')"
   ]
  },
  {
   "cell_type": "markdown",
   "metadata": {},
   "source": [
    "### 実装：Lasso回帰-最適な正則化の強度の決定"
   ]
  },
  {
   "cell_type": "code",
   "execution_count": 24,
   "metadata": {},
   "outputs": [
    {
     "data": {
      "text/plain": [
       "2.301"
      ]
     },
     "execution_count": 24,
     "metadata": {},
     "output_type": "execute_result"
    }
   ],
   "source": [
    "# CVで最適なαを求める\n",
    "lasso_best = linear_model.LassoCV(\n",
    "    cv=10, alphas=lasso_alphas, fit_intercept=False)\n",
    "lasso_best.fit(X, y)\n",
    "\n",
    "# 最適な-log(α)\n",
    "round(-np.log10(lasso_best.alpha_), 3)"
   ]
  },
  {
   "cell_type": "code",
   "execution_count": 25,
   "metadata": {},
   "outputs": [
    {
     "data": {
      "text/plain": [
       "0.005"
      ]
     },
     "execution_count": 25,
     "metadata": {},
     "output_type": "execute_result"
    }
   ],
   "source": [
    "# 最適なα\n",
    "round(lasso_best.alpha_, 3)"
   ]
  },
  {
   "cell_type": "code",
   "execution_count": 26,
   "metadata": {},
   "outputs": [
    {
     "data": {
      "text/plain": [
       "array([ 5.34, -0.  , -0.  , -0.3 , -0.04, -0.  , -0.  ,\n",
       "       -0.  , -0.  , -0.  , -0.  , -0.  , -0.  , -0.  ,\n",
       "       -0.  , -0.  , -0.  , -0.  , -0.  , -0.  , -0.  ,\n",
       "       -0.  , -0.  , -0.  , -0.  , -0.  , -0.  , -0.  ,\n",
       "        0.  , -0.  ,  0.  ,  0.  , -0.  ,  0.  ,  0.  ,\n",
       "        0.  ,  0.  , -0.  ,  0.  ,  0.  ,  0.  ,  0.  ,\n",
       "        0.  ,  0.  ,  0.  ,  0.  ,  0.  ,  0.  ,  0.  ,\n",
       "        0.  ,  0.  ,  0.  ,  0.  ,  0.  ,  0.  ,  0.  ,\n",
       "        0.  ,  0.  ,  0.  ,  0.  ,  0.  ,  0.  ,  0.  ,\n",
       "        0.  ,  0.  ,  0.  ,  0.  ,  0.  ,  0.  ,  0.  ,\n",
       "        0.01,  0.  ,  0.  ,  0.  ,  0.  ,  0.  ,  0.  ,\n",
       "        0.  ,  0.  ,  0.  ,  0.  ,  0.  ,  0.  ,  0.  ,\n",
       "        0.  ,  0.  ,  0.  ,  0.  ,  0.  ,  0.  ,  0.  ,\n",
       "        0.  ,  0.  ,  0.  ,  0.  ,  0.  ,  0.  ,  0.  ,\n",
       "        0.  ,  0.  ])"
      ]
     },
     "execution_count": 26,
     "metadata": {},
     "output_type": "execute_result"
    }
   ],
   "source": [
    "# 最適なαの時の、回帰係数\n",
    "lasso_best.coef_.round(2)"
   ]
  },
  {
   "cell_type": "markdown",
   "metadata": {},
   "source": [
    "### 実装：Lasso回帰による予測"
   ]
  },
  {
   "cell_type": "code",
   "execution_count": 27,
   "metadata": {},
   "outputs": [
    {
     "name": "stdout",
     "output_type": "stream",
     "text": [
      "     X_1    X_2    X_3    X_4    X_5    X_6    X_7    X_8  \\\n",
      "0  9.828  8.123  7.108  6.429  5.937  5.561  5.261  5.013   \n",
      "\n",
      "     X_9   X_10  ...   X_91   X_92   X_93   X_94   X_95  \\\n",
      "0  4.805  4.628  ...  2.396  2.401  2.405  2.354  2.354   \n",
      "\n",
      "    X_96   X_97  X_98   X_99  X_100  \n",
      "0  2.354  2.353  2.35  2.346  2.342  \n",
      "\n",
      "[1 rows x 100 columns]\n"
     ]
    }
   ],
   "source": [
    "# 説明変数\n",
    "print(X.iloc[0:1, ])"
   ]
  },
  {
   "cell_type": "code",
   "execution_count": 28,
   "metadata": {},
   "outputs": [
    {
     "data": {
      "text/plain": [
       "array([50.263])"
      ]
     },
     "execution_count": 28,
     "metadata": {},
     "output_type": "execute_result"
    }
   ],
   "source": [
    "# 当てはめ値\n",
    "lasso_best.predict(X=X.iloc[0:1, ])"
   ]
  },
  {
   "cell_type": "code",
   "execution_count": 29,
   "metadata": {},
   "outputs": [
    {
     "data": {
      "text/plain": [
       "50.76210216471847"
      ]
     },
     "execution_count": 29,
     "metadata": {},
     "output_type": "execute_result"
    }
   ],
   "source": [
    "# 参考：訓練データ(正解データ)\n",
    "# (書籍には載っていないコードです)\n",
    "y[0]"
   ]
  },
  {
   "cell_type": "code",
   "execution_count": 30,
   "metadata": {},
   "outputs": [
    {
     "data": {
      "text/plain": [
       "array([ 5.026e+01,  2.351e+01,  1.475e+01,  1.044e+01,\n",
       "        7.894e+00,  6.216e+00,  5.028e+00,  4.142e+00,\n",
       "        3.460e+00,  2.918e+00,  2.476e+00,  2.108e+00,\n",
       "        1.801e+00,  1.537e+00,  1.313e+00,  1.113e+00,\n",
       "        9.372e-01,  7.864e-01,  6.433e-01,  5.212e-01,\n",
       "        4.082e-01,  3.103e-01,  2.161e-01,  1.322e-01,\n",
       "        5.225e-02, -1.768e-02, -8.793e-02, -1.489e-01,\n",
       "       -2.038e-01, -2.604e-01, -3.063e-01, -3.585e-01,\n",
       "       -3.998e-01, -4.412e-01, -4.781e-01, -5.151e-01,\n",
       "       -5.530e-01, -5.851e-01, -6.177e-01, -6.455e-01,\n",
       "       -6.726e-01, -7.006e-01, -7.233e-01, -7.518e-01,\n",
       "       -7.745e-01, -7.981e-01, -8.162e-01, -8.394e-01,\n",
       "       -8.577e-01, -8.766e-01, -8.945e-01, -9.136e-01,\n",
       "       -9.271e-01, -9.451e-01, -9.587e-01, -9.725e-01,\n",
       "       -9.922e-01, -1.006e+00, -1.019e+00, -1.028e+00,\n",
       "       -1.042e+00, -1.057e+00, -1.066e+00, -1.079e+00,\n",
       "       -1.088e+00, -1.097e+00, -1.112e+00, -1.121e+00,\n",
       "       -1.130e+00, -1.139e+00, -1.148e+00, -1.157e+00,\n",
       "       -1.167e+00, -1.176e+00, -1.185e+00, -1.190e+00,\n",
       "       -1.199e+00, -1.208e+00, -1.213e+00, -1.222e+00,\n",
       "       -1.232e+00, -1.236e+00, -1.246e+00, -1.250e+00,\n",
       "       -1.254e+00, -1.264e+00, -1.268e+00, -1.273e+00,\n",
       "       -1.283e+00, -1.287e+00, -1.291e+00, -1.296e+00,\n",
       "       -1.300e+00, -1.310e+00, -1.315e+00, -1.319e+00,\n",
       "       -1.324e+00, -1.328e+00, -1.333e+00, -1.338e+00,\n",
       "       -1.342e+00, -1.347e+00, -1.351e+00, -1.356e+00,\n",
       "       -1.361e+00, -1.366e+00, -1.371e+00, -1.370e+00,\n",
       "       -1.374e+00, -1.379e+00, -1.384e+00, -1.389e+00,\n",
       "       -1.393e+00, -1.393e+00, -1.398e+00, -1.403e+00,\n",
       "       -1.407e+00, -1.407e+00, -1.412e+00, -1.416e+00,\n",
       "       -1.417e+00, -1.421e+00, -1.426e+00, -1.425e+00,\n",
       "       -1.430e+00, -1.436e+00, -1.435e+00, -1.439e+00,\n",
       "       -1.439e+00, -1.444e+00, -1.449e+00, -1.448e+00,\n",
       "       -1.454e+00, -1.453e+00, -1.458e+00, -1.458e+00,\n",
       "       -1.462e+00, -1.468e+00, -1.467e+00, -1.472e+00,\n",
       "       -1.472e+00, -1.477e+00, -1.476e+00, -1.482e+00,\n",
       "       -1.481e+00, -1.486e+00, -1.486e+00, -1.485e+00,\n",
       "       -1.491e+00, -1.490e+00])"
      ]
     },
     "execution_count": 30,
     "metadata": {},
     "output_type": "execute_result"
    }
   ],
   "source": [
    "# 参考：すべての訓練データに対する当てはめ値の取得(書籍には載っていないコードです)\n",
    "lasso_best.predict(X=X)"
   ]
  }
 ],
 "metadata": {
  "kernelspec": {
   "display_name": "Python 3 (ipykernel)",
   "language": "python",
   "name": "python3"
  },
  "language_info": {
   "codemirror_mode": {
    "name": "ipython",
    "version": 3
   },
   "file_extension": ".py",
   "mimetype": "text/x-python",
   "name": "python",
   "nbconvert_exporter": "python",
   "pygments_lexer": "ipython3",
   "version": "3.9.7"
  }
 },
 "nbformat": 4,
 "nbformat_minor": 2
}
